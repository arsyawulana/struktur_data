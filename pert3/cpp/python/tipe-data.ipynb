{
 "cells": [
  {
   "cell_type": "code",
   "execution_count": null,
   "id": "f796db57",
   "metadata": {},
   "outputs": [],
   "source": [
    "int(integral)"
   ]
  },
  {
   "cell_type": "code",
   "execution_count": 1,
   "id": "c0dc3a61",
   "metadata": {},
   "outputs": [
    {
     "name": "stdout",
     "output_type": "stream",
     "text": [
      "20\n"
     ]
    }
   ],
   "source": [
    "num = 10;\n",
    "num2 =10;\n",
    "\n",
    "print(num + num2)"
   ]
  },
  {
   "cell_type": "code",
   "execution_count": null,
   "id": "d0d53005",
   "metadata": {},
   "outputs": [],
   "source": [
    "string"
   ]
  },
  {
   "cell_type": "code",
   "execution_count": null,
   "id": "d97cb6f6",
   "metadata": {},
   "outputs": [],
   "source": [
    "b = 1j\n",
    "print(d)\n",
    "print(type(d))"
   ]
  },
  {
   "cell_type": "markdown",
   "id": "2cff0252",
   "metadata": {},
   "source": [
    "List"
   ]
  },
  {
   "cell_type": "code",
   "execution_count": null,
   "id": "7cc117b6",
   "metadata": {},
   "outputs": [],
   "source": [
    "e = [\"a\", \"b\", \"c\"]\n",
    "print(e)\n",
    "print(type(e))"
   ]
  },
  {
   "cell_type": "code",
   "execution_count": null,
   "id": "162ae35e",
   "metadata": {},
   "outputs": [],
   "source": [
    "Tupple"
   ]
  },
  {
   "cell_type": "code",
   "execution_count": null,
   "id": "e8f7c55b",
   "metadata": {},
   "outputs": [],
   "source": [
    "f = (\"a\", \"b\", \"c\")\n",
    "print(f)\n",
    "print(type(f))"
   ]
  },
  {
   "cell_type": "code",
   "execution_count": null,
   "id": "a752e463",
   "metadata": {},
   "outputs": [],
   "source": [
    "Range"
   ]
  },
  {
   "cell_type": "code",
   "execution_count": null,
   "id": "7413f80f",
   "metadata": {},
   "outputs": [],
   "source": [
    "g = range(5)\n",
    "print(g)\n",
    "print(type(g))"
   ]
  },
  {
   "cell_type": "code",
   "execution_count": null,
   "id": "912edd2f",
   "metadata": {},
   "outputs": [],
   "source": [
    "Set"
   ]
  },
  {
   "cell_type": "code",
   "execution_count": null,
   "id": "1672a9b7",
   "metadata": {},
   "outputs": [],
   "source": [
    "h = {\"ani\", \"budi\"}\n",
    "print(h)\n",
    "print(type(h))"
   ]
  },
  {
   "cell_type": "code",
   "execution_count": null,
   "id": "b2f809a7",
   "metadata": {},
   "outputs": [],
   "source": [
    "Dict"
   ]
  },
  {
   "cell_type": "code",
   "execution_count": null,
   "id": "00432343",
   "metadata": {},
   "outputs": [],
   "source": [
    "i = {\"nama\" : \"ani\"}\n",
    "print(i)\n",
    "print(type(i))"
   ]
  },
  {
   "cell_type": "code",
   "execution_count": null,
   "id": "1ea6b652",
   "metadata": {},
   "outputs": [],
   "source": [
    "Frozenset"
   ]
  },
  {
   "cell_type": "code",
   "execution_count": null,
   "id": "2ec43912",
   "metadata": {},
   "outputs": [],
   "source": [
    "j = frozenset({\"ani\", \"budi\"})\n",
    "print(j)\n",
    "print(type(j))"
   ]
  },
  {
   "cell_type": "code",
   "execution_count": null,
   "id": "a488079d",
   "metadata": {},
   "outputs": [],
   "source": [
    "Bool"
   ]
  },
  {
   "cell_type": "code",
   "execution_count": null,
   "id": "bd4e877c",
   "metadata": {},
   "outputs": [],
   "source": [
    "k = True\n",
    "print(k)\n",
    "print(type(k))"
   ]
  },
  {
   "cell_type": "code",
   "execution_count": null,
   "id": "cb376e53",
   "metadata": {},
   "outputs": [],
   "source": [
    "Bytes"
   ]
  },
  {
   "cell_type": "code",
   "execution_count": null,
   "id": "acf6f830",
   "metadata": {},
   "outputs": [],
   "source": [
    "1 = b\"hello\"\n",
    "print(1)\n",
    "print(type(1))"
   ]
  },
  {
   "cell_type": "markdown",
   "id": "918a3411",
   "metadata": {},
   "source": [
    "Byte Array"
   ]
  },
  {
   "cell_type": "code",
   "execution_count": null,
   "id": "9fd28d53",
   "metadata": {},
   "outputs": [],
   "source": [
    "m = bytearray(s)\n",
    "print(m)\n",
    "print(type(m))"
   ]
  },
  {
   "cell_type": "markdown",
   "id": "47f8a498",
   "metadata": {},
   "source": [
    "Memory view"
   ]
  },
  {
   "cell_type": "code",
   "execution_count": null,
   "id": "aeb1a55c",
   "metadata": {},
   "outputs": [],
   "source": [
    "n = memoryview(bytes(5))\n",
    "print(n)\n",
    "print(type(n))"
   ]
  },
  {
   "cell_type": "code",
   "execution_count": null,
   "id": "0d1aea72",
   "metadata": {},
   "outputs": [],
   "source": [
    "none"
   ]
  },
  {
   "cell_type": "code",
   "execution_count": null,
   "id": "01fc1b7e",
   "metadata": {},
   "outputs": [],
   "source": [
    "o = None\n",
    "print(o)\n",
    "print(type(o))"
   ]
  }
 ],
 "metadata": {
  "kernelspec": {
   "display_name": "Python 3",
   "language": "python",
   "name": "python3"
  },
  "language_info": {
   "codemirror_mode": {
    "name": "ipython",
    "version": 3
   },
   "file_extension": ".py",
   "mimetype": "text/x-python",
   "name": "python",
   "nbconvert_exporter": "python",
   "pygments_lexer": "ipython3",
   "version": "3.12.3"
  }
 },
 "nbformat": 4,
 "nbformat_minor": 5
}
